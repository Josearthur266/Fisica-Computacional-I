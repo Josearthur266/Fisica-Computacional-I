{
 "cells": [
  {
   "cell_type": "code",
   "execution_count": 1,
   "id": "40a0e43d",
   "metadata": {},
   "outputs": [],
   "source": [
    "from numpy import*\n",
    "from math import*\n",
    "import matplotlib.pyplot as plt"
   ]
  },
  {
   "cell_type": "markdown",
   "id": "edf200be",
   "metadata": {},
   "source": [
    "## Problema 1"
   ]
  },
  {
   "cell_type": "code",
   "execution_count": 2,
   "id": "16e66d2d",
   "metadata": {},
   "outputs": [],
   "source": [
    "def f(t):\n",
    "    return e**(-t**2)"
   ]
  },
  {
   "cell_type": "code",
   "execution_count": 3,
   "id": "05aff006",
   "metadata": {},
   "outputs": [
    {
     "data": {
      "text/plain": [
       "0.8862073481597853"
      ]
     },
     "execution_count": 3,
     "metadata": {},
     "output_type": "execute_result"
    }
   ],
   "source": [
    "m = 100\n",
    "xo, xm = 0, 3\n",
    "h = (xm-xo)/m\n",
    "x = []\n",
    "i=0\n",
    "while(i<=xm):\n",
    "    x.append(i)\n",
    "    i+=h\n",
    "    \n",
    "p1 = f(xo) + f(xm)\n",
    "i, temp = 1, 0\n",
    "\n",
    "while(i<=m/2-1):\n",
    "    temp = f(x[2*i]) + temp\n",
    "    i+=1\n",
    "p2 = 2*temp\n",
    "\n",
    "i, temp = 1, 0\n",
    "while(i<=m/2):\n",
    "    temp = f(x[2*i-1]) + temp\n",
    "    i+=1\n",
    "p3 = 4*temp\n",
    "\n",
    "res = (p1 + p2 + p3)*h/3\n",
    "res"
   ]
  },
  {
   "cell_type": "code",
   "execution_count": 4,
   "id": "2a01e530",
   "metadata": {},
   "outputs": [
    {
     "data": {
      "text/plain": [
       "31"
      ]
     },
     "execution_count": 4,
     "metadata": {},
     "output_type": "execute_result"
    }
   ],
   "source": [
    "x = arange(0,3.1,0.1)\n",
    "len(x)"
   ]
  },
  {
   "cell_type": "code",
   "execution_count": 5,
   "id": "8a50bcba",
   "metadata": {},
   "outputs": [
    {
     "data": {
      "text/plain": [
       "[<matplotlib.lines.Line2D at 0x201645c0a00>]"
      ]
     },
     "execution_count": 5,
     "metadata": {},
     "output_type": "execute_result"
    },
    {
     "data": {
      "image/png": "[encoded data removed]",
      "text/plain": [
       "<Figure size 432x288 with 1 Axes>"
      ]
     },
     "metadata": {
      "needs_background": "light"
     },
     "output_type": "display_data"
    }
   ],
   "source": [
    "E = [0]\n",
    "p = 0\n",
    "for i in range(1,31):\n",
    "    xo, xm = x[i-1], x[i]\n",
    "    c = (x[i]+x[i-1])/2\n",
    "    h = (xm - xo)/2\n",
    "    p = p + (f(xo) + 4*f(c) + f(xm))*h/3\n",
    "    E.append(p)\n",
    "plt.plot(x,E)"
   ]
  },
  {
   "cell_type": "markdown",
   "id": "aa589e24",
   "metadata": {},
   "source": [
    "## Problema 2"
   ]
  },
  {
   "cell_type": "code",
   "execution_count": 6,
   "id": "44700586",
   "metadata": {},
   "outputs": [],
   "source": [
    "#a)\n",
    "def f(tet, m, x):\n",
    "    return (cos(m*tet-x*sin(tet)))/pi\n",
    "\n",
    "def j(m,x):\n",
    "    n = 1000\n",
    "    tet0, tetn = 0, pi\n",
    "    h = (tetn-tet0)/n\n",
    "    tet = []\n",
    "    i = 0\n",
    "    while(i<=tetn):\n",
    "        tet.append(i)\n",
    "        i+=h\n",
    "        \n",
    "    p1 = f(tet0, m, x) + f(tetn, m, x)\n",
    "    i , temp = 1, 0\n",
    "    \n",
    "    while(i<=n/2-1):\n",
    "        temp = f(tet[2*i], m, x) + temp\n",
    "        i+=1\n",
    "    p2 = 2*temp\n",
    "    \n",
    "    i, temp = 1, 0\n",
    "    while(i<=n/2):\n",
    "        temp = f(tet[2*i-1], m, x) + temp\n",
    "        i+=1\n",
    "    p3 = 4*temp\n",
    "    \n",
    "    return (p1 + p2 + p3)*h/3"
   ]
  },
  {
   "cell_type": "code",
   "execution_count": 7,
   "id": "942ab5e0",
   "metadata": {
    "scrolled": true
   },
   "outputs": [
    {
     "data": {
      "text/plain": [
       "([1.0000000000000042,\n",
       "  0.9844359292958531,\n",
       "  0.9384698072408124,\n",
       "  0.8642422751666478,\n",
       "  0.7651976865579648,\n",
       "  0.6459060852712822,\n",
       "  0.5118276717359137,\n",
       "  0.36903253018514476,\n",
       "  0.2238907791412279,\n",
       "  0.08274985128872446,\n",
       "  -0.04838377646820916,\n",
       "  -0.16414142780852695,\n",
       "  -0.2600519549019486,\n",
       "  -0.3327508021706282,\n",
       "  -0.38012773998728205,\n",
       "  -0.4014060549361946,\n",
       "  -0.3971498098638684,\n",
       "  -0.369199770299917,\n",
       "  -0.3205425089851442,\n",
       "  -0.2551208274913974,\n",
       "  -0.17759677131436194,\n",
       "  -0.09308098963934137,\n",
       "  -0.006843869417842498,\n",
       "  0.07597533201687844,\n",
       "  0.15064525725097513,\n",
       "  0.21309005307663956,\n",
       "  0.2600946055815861,\n",
       "  0.28945678978453787,\n",
       "  0.3000792705195378,\n",
       "  0.29199692419176243,\n",
       "  0.26633965788036257,\n",
       "  0.22523406912009172,\n",
       "  0.17165080713753997,\n",
       "  0.10920747150608795,\n",
       "  0.041939251842921466,\n",
       "  -0.025948856094642838,\n",
       "  -0.09033361118288914,\n",
       "  -0.1474142628412495,\n",
       "  -0.1939287476874363,\n",
       "  -0.2273332995118629,\n",
       "  -0.24593576445136345,\n",
       "  -0.24897577978286603,\n",
       "  -0.2366481944623646,\n",
       "  -0.21006948984952936,\n",
       "  -0.17119030040721553,\n",
       "  -0.12266024171059044,\n",
       "  -0.06765394811168642,\n",
       "  -0.009669352567096409,\n",
       "  0.047689310796811386,\n",
       "  0.10093061051049292,\n",
       "  0.14688405470039892,\n",
       "  0.18288505664013321,\n",
       "  0.20692610237704656,\n",
       "  0.21776567792102805,\n",
       "  0.21498916588038078,\n",
       "  0.1990188785029794,\n",
       "  0.17107347611044052,\n",
       "  0.13308004200165655,\n",
       "  0.08754486801035995,\n",
       "  0.03739138641993381,\n",
       "  -0.014224472826795669,\n",
       "  -0.06411001866966268,\n",
       "  -0.10923065090006435,\n",
       "  -0.14689207707972526,\n",
       "  -0.17489907398364343,\n",
       "  -0.1916815406490504,\n",
       "  -0.1963806929368763,\n",
       "  -0.18889075465078356,\n",
       "  -0.16985425215120006,\n",
       "  -0.1406118495031032,\n",
       "  -0.10311039822870433,\n",
       "  -0.05977535599929443,\n",
       "  -0.013355805722004248,\n",
       "  0.033248139976217145,\n",
       "  0.07716482142253331,\n",
       "  0.1157263926545704,\n",
       "  0.14662943965962932,\n",
       "  0.1680712628272595,\n",
       "  0.17885382704015118,\n",
       "  0.17844944575136257,\n",
       "  0.16702466434056273],\n",
       " [-1.9329767215963838e-15,\n",
       "  0.12402597732272629,\n",
       "  0.24226845767487523,\n",
       "  0.3492436021748655,\n",
       "  0.4400505857449388,\n",
       "  0.5106232603198878,\n",
       "  0.5579365079101095,\n",
       "  0.5801561976390047,\n",
       "  0.576724807756888,\n",
       "  0.5483783566469773,\n",
       "  0.49709410246429314,\n",
       "  0.4259723029579234,\n",
       "  0.3390589585259591,\n",
       "  0.24111968801522785,\n",
       "  0.13737752736235218,\n",
       "  0.03322934912970515,\n",
       "  -0.06604332802352339,\n",
       "  -0.15555319297831705,\n",
       "  -0.2310604319233455,\n",
       "  -0.2891867986470858,\n",
       "  -0.327579137591442,\n",
       "  -0.34501397857941574,\n",
       "  -0.3414382154290226,\n",
       "  -0.3179445239193136,\n",
       "  -0.276683858127548,\n",
       "  -0.22072087753922096,\n",
       "  -0.15384130140995653,\n",
       "  -0.08032278525526287,\n",
       "  -0.004682823482332292,\n",
       "  0.06858170065314474,\n",
       "  0.13524842757971814,\n",
       "  0.19160259218913064,\n",
       "  0.23463634685392776,\n",
       "  0.26220355199275747,\n",
       "  0.2731219636740682,\n",
       "  0.26721789148629715,\n",
       "  0.24531178657334204,\n",
       "  0.20914665047013906,\n",
       "  0.16126443075754895,\n",
       "  0.10483850125851774,\n",
       "  0.04347274616888259,\n",
       "  -0.019020455696846593,\n",
       "  -0.0788500142273089,\n",
       "  -0.13247010254296723,\n",
       "  -0.1767852989566986,\n",
       "  -0.20932517962469774,\n",
       "  -0.22837862066530124,\n",
       "  -0.23308058827394262,\n",
       "  -0.2234471044906067,\n",
       "  -0.20035719875583483,\n",
       "  -0.16548380461474063,\n",
       "  -0.12117855082317412,\n",
       "  -0.0703180521217616,\n",
       "  -0.016121474234351164,\n",
       "  0.038049292086016394,\n",
       "  0.08889464674180564,\n",
       "  0.13337515469880698,\n",
       "  0.16889055348600715,\n",
       "  0.1934294635960606,\n",
       "  0.20568127148620038,\n",
       "  0.20510403861353685,\n",
       "  0.1919450094546894,\n",
       "  0.16721318035176305,\n",
       "  0.13260627465765573,\n",
       "  0.09039717566132184,\n",
       "  0.0432872373405507,\n",
       "  -0.00576421373561175,\n",
       "  -0.05372356191887317,\n",
       "  -0.09766849275775974,\n",
       "  -0.1349642427561291,\n",
       "  -0.16341996942573309,\n",
       "  -0.18141603687683702,\n",
       "  -0.18799488548804785,\n",
       "  -0.18291044742492024,\n",
       "  -0.16663364000999534,\n",
       "  -0.1403141581018222,\n",
       "  -0.10570143114238993,\n",
       "  -0.06503005121856695,\n",
       "  -0.020877070148080032,\n",
       "  0.02399981638843966,\n",
       "  0.06683312417586591],\n",
       " [-8.886391359226393e-15,\n",
       "  0.007771889285951084,\n",
       "  0.030604023458668,\n",
       "  0.06707399729963326,\n",
       "  0.11490348493188046,\n",
       "  0.17109113124050138,\n",
       "  0.23208767214419093,\n",
       "  0.29400312425938613,\n",
       "  0.35283402861561086,\n",
       "  0.40469757684186897,\n",
       "  0.4460590584395889,\n",
       "  0.47393946632332346,\n",
       "  0.4860912605858641,\n",
       "  0.4811321486414799,\n",
       "  0.4586291841942822,\n",
       "  0.41912837447198065,\n",
       "  0.3641281458520515,\n",
       "  0.2959982677218324,\n",
       "  0.2178489836858278,\n",
       "  0.133357964903101,\n",
       "  0.046565116277737816,\n",
       "  -0.03835290696238561,\n",
       "  -0.11731548164729942,\n",
       "  -0.18656473164102794,\n",
       "  -0.2428732099601958,\n",
       "  -0.2837207338892274,\n",
       "  -0.3074303906308398,\n",
       "  -0.31325613356390963,\n",
       "  -0.3014172200859527,\n",
       "  -0.2730778343564461,\n",
       "  -0.23027341052580527,\n",
       "  -0.1757882388777702,\n",
       "  -0.11299172042409299,\n",
       "  -0.04564297405333415,\n",
       "  0.022324739609763708,\n",
       "  0.08702723129147287,\n",
       "  0.14484734153248174,\n",
       "  0.19263516024015861,\n",
       "  0.2278791541626688,\n",
       "  0.24883863310331186,\n",
       "  0.254630313685098,\n",
       "  0.24526447135416996,\n",
       "  0.22162914413331036,\n",
       "  0.18542388937637577,\n",
       "  0.139047518778682,\n",
       "  0.0854468764439349,\n",
       "  0.027935927126374636,\n",
       "  -0.030003939054041553,\n",
       "  -0.08493049487861991,\n",
       "  -0.13364198989924025,\n",
       "  -0.17336146343879635,\n",
       "  -0.2018934567692966,\n",
       "  -0.21774426424196977,\n",
       "  -0.2201991079941743,\n",
       "  -0.20935223371952558,\n",
       "  -0.1860887480678434,\n",
       "  -0.15201988258207488,\n",
       "  -0.10937610467032251,\n",
       "  -0.060864941997145705,\n",
       "  -0.009502400455739,\n",
       "  0.04157167797523111,\n",
       "  0.08928313466368377,\n",
       "  0.13080654513896425,\n",
       "  0.16373096909970722,\n",
       "  0.1861987209412702,\n",
       "  0.19700920062938707,\n",
       "  0.19568200036282304,\n",
       "  0.18247600098878838,\n",
       "  0.1583638412384821,\n",
       "  0.12496382135742452,\n",
       "  0.08443383029429401,\n",
       "  0.03933411240749742,\n",
       "  -0.007532514887819529,\n",
       "  -0.05329312051597485,\n",
       "  -0.0951792689912216,\n",
       "  -0.13069323618547107,\n",
       "  -0.15775590609570936,\n",
       "  -0.1748276317850714,\n",
       "  -0.18099506500409493,\n",
       "  -0.17601908459814053,\n",
       "  -0.160341351923013])"
      ]
     },
     "execution_count": 7,
     "metadata": {},
     "output_type": "execute_result"
    }
   ],
   "source": [
    "x = arange(0, 20.05, 0.25)\n",
    "j0 = []\n",
    "j1 = []\n",
    "j2 = []\n",
    "for i in range(0,81):\n",
    "    temp = j(0,x[i])\n",
    "    j0.append(temp)\n",
    "    \n",
    "    temp = j(1,x[i])\n",
    "    j1.append(temp)\n",
    "    \n",
    "    temp = j(2,x[i])\n",
    "    j2.append(temp)\n",
    "j0, j1, j2"
   ]
  },
  {
   "cell_type": "code",
   "execution_count": 8,
   "id": "60db7e5f",
   "metadata": {},
   "outputs": [
    {
     "data": {
      "text/plain": [
       "Text(0, 0.5, 'Jm(x)')"
      ]
     },
     "execution_count": 8,
     "metadata": {},
     "output_type": "execute_result"
    },
    {
     "data": {
      "image/png": "[encoded data removed]",
      "text/plain": [
       "<Figure size 432x288 with 1 Axes>"
      ]
     },
     "metadata": {
      "needs_background": "light"
     },
     "output_type": "display_data"
    }
   ],
   "source": [
    "plt.plot(x,j0)\n",
    "plt.plot(x,j1)\n",
    "plt.plot(x,j2)\n",
    "plt.xlabel(\"X\")\n",
    "plt.ylabel(\"Jm(x)\")"
   ]
  },
  {
   "cell_type": "code",
   "execution_count": 9,
   "id": "5bc121a9",
   "metadata": {},
   "outputs": [],
   "source": [
    "import numpy as np"
   ]
  },
  {
   "cell_type": "code",
   "execution_count": 10,
   "id": "4ef9742e",
   "metadata": {
    "scrolled": true
   },
   "outputs": [],
   "source": [
    "#b)\n",
    "lan = 500e-9\n",
    "k = 2*pi/lan\n",
    "r = []\n",
    "linha0 = []\n",
    "x = np.linspace(-1e-6,1e-6,100)\n",
    "y = np.linspace(-1e-6,1e-6,100)\n",
    "\n",
    "for i in range(0,100):\n",
    "    for q in range(0, 100):\n",
    "        temp = (x[i]**2+y[q]**2)**0.5\n",
    "        linha0.append(temp)\n",
    "    r.append(linha0)\n",
    "    linha0=[]\n",
    "I = []\n",
    "linha = []\n",
    "for i in range(0,100):\n",
    "    for q in range(0,100):\n",
    "        temp = (k*r[i][q])\n",
    "        linha.append((j(1,temp)/temp)**2)\n",
    "    I.append(linha)\n",
    "    linha = []"
   ]
  },
  {
   "cell_type": "code",
   "execution_count": 11,
   "id": "d07c352e",
   "metadata": {},
   "outputs": [
    {
     "data": {
      "image/png": "[encoded data removed]",
      "text/plain": [
       "<Figure size 432x288 with 1 Axes>"
      ]
     },
     "metadata": {
      "needs_background": "light"
     },
     "output_type": "display_data"
    }
   ],
   "source": [
    "plt.imshow(I, origin='lower', vmax=0.01)\n",
    "plt.hot()"
   ]
  },
  {
   "cell_type": "markdown",
   "id": "993f224e",
   "metadata": {},
   "source": [
    "## Problema 3"
   ]
  },
  {
   "cell_type": "code",
   "execution_count": 12,
   "id": "a6182485",
   "metadata": {},
   "outputs": [
    {
     "data": {
      "text/plain": [
       "(4.50656, 4.426660000000001)"
      ]
     },
     "execution_count": 12,
     "metadata": {},
     "output_type": "execute_result"
    }
   ],
   "source": [
    "#Definindo as funções para a integral\n",
    "def inte(x):\n",
    "    return x**4 - 2*x + 1\n",
    "def trap(N):\n",
    "    a, b = 0, 2\n",
    "    h = (b-a)/N\n",
    "    res = (inte(a)+inte(b))/2\n",
    "    for i in range(1,N):\n",
    "        res = res + inte(a+i*h)\n",
    "    return res*h\n",
    "I1, I2 = trap(10), trap(20)\n",
    "I1, I2"
   ]
  },
  {
   "cell_type": "code",
   "execution_count": 13,
   "id": "819d062b",
   "metadata": {},
   "outputs": [
    {
     "data": {
      "text/plain": [
       "(-0.026633333333333137, 0.026660000000000572)"
      ]
     },
     "execution_count": 13,
     "metadata": {},
     "output_type": "execute_result"
    }
   ],
   "source": [
    "#Calculando o erro\n",
    "err = (I2-I1)/3\n",
    "err, I2-4.4"
   ]
  },
  {
   "cell_type": "markdown",
   "id": "77883e7b",
   "metadata": {},
   "source": [
    "Esse erro é calculado apartir da série de Taylor expandida, porém ele só considera os 3 priemeiros termos, dessa forma esse erro não será tão preciso. "
   ]
  },
  {
   "cell_type": "markdown",
   "id": "3c003f11",
   "metadata": {},
   "source": [
    "## Problema 4"
   ]
  },
  {
   "cell_type": "code",
   "execution_count": 14,
   "id": "f8444a21",
   "metadata": {},
   "outputs": [],
   "source": [
    "def fun(x):\n",
    "    return (sin((100*x)**0.5))**2\n",
    "\n",
    "def p1(N):\n",
    "    a,b = 0, 1\n",
    "    h0 = (b-a)/(N/2)\n",
    "    p1 = 0.5*(fun(a)+fun(b))\n",
    "    if(N>2):\n",
    "        for i in range(1,int(N/2)):\n",
    "            p1 = p1 + fun(i*h0)\n",
    "    else:\n",
    "        p1=p1\n",
    "    return p1*h0\n",
    "\n",
    "def p2(N):\n",
    "    a,b = 0, 1\n",
    "    h = (b-a)/N\n",
    "    p2 = 0\n",
    "    for i in range(1,N,2):\n",
    "        p2 = p2 + fun(i*h)\n",
    "        \n",
    "    return p2*h"
   ]
  },
  {
   "cell_type": "code",
   "execution_count": 15,
   "id": "812318c0",
   "metadata": {},
   "outputs": [
    {
     "name": "stdout",
     "output_type": "stream",
     "text": [
      "0.147979484546652 0.049326494848883996 1\n",
      "0.3252319078064746 0.05908414108660753 2\n",
      "0.5122828507233315 0.06235031430561896 4\n",
      "0.4029974484782483 0.03642846741502772 8\n",
      "0.4301033692947469 0.009035306938832885 16\n",
      "0.44841466578746997 0.006103765497574336 32\n",
      "0.4539129312153758 0.0018327551426353117 64\n",
      "0.45534850437280217 0.000478524385808754 128\n",
      "0.455711266453241 0.00012092069347964991 256\n",
      "0.45580219965166413 3.0311066141042176e-05 512\n",
      "0.45582494813242 7.582826918576628e-06 1024\n",
      "0.45583063620164666 1.8960230755427077e-06 2048\n",
      "0.45583205827827095 4.740255415044044e-07 4096\n"
     ]
    }
   ],
   "source": [
    "N = 1\n",
    "err = 1\n",
    "while(err>1e-6):\n",
    "    I0 = p1(N)\n",
    "    I1 = I0/2 + p2(N)\n",
    "    err = abs((I1-I0)/3)\n",
    "    print(I1, err, N)\n",
    "    N*=2"
   ]
  },
  {
   "cell_type": "markdown",
   "id": "2c53c9e1",
   "metadata": {},
   "source": [
    "A quantidade de 4096 fatias para chegar no resultado correto."
   ]
  },
  {
   "cell_type": "code",
   "execution_count": null,
   "id": "a91fd76f",
   "metadata": {},
   "outputs": [],
   "source": []
  }
 ],
 "metadata": {
  "kernelspec": {
   "display_name": "Python 3",
   "language": "python",
   "name": "python3"
  },
  "language_info": {
   "codemirror_mode": {
    "name": "ipython",
    "version": 3
   },
   "file_extension": ".py",
   "mimetype": "text/x-python",
   "name": "python",
   "nbconvert_exporter": "python",
   "pygments_lexer": "ipython3",
   "version": "3.8.8"
  }
 },
 "nbformat": 4,
 "nbformat_minor": 5
}
