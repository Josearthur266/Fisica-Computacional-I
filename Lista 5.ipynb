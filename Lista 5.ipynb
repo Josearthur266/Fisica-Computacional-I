{
 "cells": [
  {
   "cell_type": "code",
   "execution_count": 1,
   "id": "4455df97",
   "metadata": {},
   "outputs": [],
   "source": [
    "import matplotlib.pyplot as plt\n",
    "import numpy as np\n",
    "from math import*"
   ]
  },
  {
   "cell_type": "markdown",
   "id": "59a62956",
   "metadata": {},
   "source": [
    "## Problema 1"
   ]
  },
  {
   "cell_type": "code",
   "execution_count": 2,
   "id": "162ab078",
   "metadata": {},
   "outputs": [],
   "source": [
    "def f(c, x):\n",
    "    return 1 - np.exp(-c*x)"
   ]
  },
  {
   "cell_type": "code",
   "execution_count": 3,
   "id": "b52ac396",
   "metadata": {},
   "outputs": [
    {
     "name": "stdout",
     "output_type": "stream",
     "text": [
      "0.7968126311118457\n"
     ]
    }
   ],
   "source": [
    "#a)\n",
    "x1 = 1\n",
    "temp = 1e-6\n",
    "err = 10000\n",
    "while(err>temp):\n",
    "    x2=x1\n",
    "    x1 = f(2,x1)\n",
    "    err = abs(x1-x2)\n",
    "print(x1)"
   ]
  },
  {
   "cell_type": "code",
   "execution_count": 4,
   "id": "c7fd8934",
   "metadata": {},
   "outputs": [
    {
     "data": {
      "text/plain": [
       "Text(0, 0.5, 'x')"
      ]
     },
     "execution_count": 4,
     "metadata": {},
     "output_type": "execute_result"
    },
    {
     "data": {
      "image/png": "[encoded data removed]",
      "text/plain": [
       "<Figure size 432x288 with 1 Axes>"
      ]
     },
     "metadata": {
      "needs_background": "light"
     },
     "output_type": "display_data"
    }
   ],
   "source": [
    "#b)\n",
    "c = np.arange(0,3.01,0.01) \n",
    "temp = 1e-6\n",
    "x = []\n",
    "for i in range(0,len(c)):\n",
    "    x1 = 1\n",
    "    err = 10000\n",
    "    while(err>temp):\n",
    "        x2=x1\n",
    "        x1 = f(c[i],x1)\n",
    "        err = abs(x1-x2)\n",
    "    x.append(x1)\n",
    "plt.plot(c, x)\n",
    "plt.xlabel(\"c\", size=12)\n",
    "plt.ylabel(\"x\", size=12)"
   ]
  },
  {
   "cell_type": "markdown",
   "id": "ab6f61e1",
   "metadata": {},
   "source": [
    "## Problema 2"
   ]
  },
  {
   "cell_type": "code",
   "execution_count": 5,
   "id": "31a97d8b",
   "metadata": {},
   "outputs": [],
   "source": [
    "#b)\n",
    "a = 1\n",
    "b = 2\n",
    "def f(x,y):\n",
    "    return y*(a + x**2)\n",
    "def g(x):\n",
    "    return b/(a + x**2)"
   ]
  },
  {
   "cell_type": "code",
   "execution_count": 6,
   "id": "f3fcd78a",
   "metadata": {
    "scrolled": true
   },
   "outputs": [
    {
     "name": "stdout",
     "output_type": "stream",
     "text": [
      "2 3\n",
      "15 0.4\n",
      "90.4 0.008849557522123894\n",
      "72.32884955752213 0.00024470339501490244\n",
      "1.28040133273169 0.0003822292101068601\n",
      "0.0010088663163089606 0.7577400571867328\n",
      "0.7577408284230831 1.9999979643795835\n",
      "3.148339121703642 1.2705098701675672\n",
      "13.863853539335345 0.18328379862969577\n",
      "35.411609319195925 0.0103516220896711\n",
      "12.991100165315599 0.0015936482604157682\n",
      "0.27055156714123746 0.011780735755885145\n",
      "0.012643063824539932 1.863588750223498\n",
      "1.8638866394116214 1.9996803569682569\n",
      "8.946716702767015 0.4470199344413804\n",
      "36.228167234207405 0.0246780319606836\n",
      "32.4141039158942 0.0015226724776792467\n",
      "1.6013552573043925 0.0019017297638781357\n",
      "0.00677840891844687 0.561113909402172\n",
      "0.5611396908061559 1.9999081105670966\n",
      "2.6296346818250327 1.5210539504895104\n",
      "12.03910940651033 0.2526854602163475\n",
      "36.87695530651227 0.013704247442126796\n",
      "18.650245093449588 0.0014696050774088813\n",
      "0.5126447523112975 0.005733424835748561\n",
      "0.007240195497555963 1.583776249600985\n",
      "1.5838592718343476 1.9998951646338297\n",
      "7.01685255951693 0.5700262753622718\n",
      "28.635965284815107 0.03981191272532668\n",
      "32.686317178138275 0.0024359986784901083\n",
      "2.6050456122952648 0.0018702157589815006\n",
      "0.014561991096896942 0.2568626428263688\n",
      "0.25691711095683195 1.9995759867432708\n",
      "2.1315608029586453 1.8761613405236413\n",
      "10.400596932282264 0.3607795500083752\n",
      "39.38717531544191 0.018319645779063018\n",
      "28.438494418591297 0.001288369595760793\n",
      "1.0432546580726674 0.002469904324493421\n",
      "0.005158099488686715 0.9576799865573258\n",
      "0.9577054665817922 1.9999467894350496\n",
      "3.8342975061589057 1.0431881126712785\n",
      "16.379970087033918 0.12737362853880263\n",
      "34.30215378994862 0.00742656739974889\n",
      "8.745806157243342 0.0016983151161195475\n",
      "0.13160095289993257 0.025810073235729855\n",
      "0.026257073010941236 1.9659520484232862\n",
      "1.9673074423780226 1.998622082217004\n",
      "9.733886274659902 0.41065244154741987\n",
      "39.31937255019599 0.020888046523284253\n",
      "32.31408072222445 0.0012928139100004297\n",
      "1.3512488568759746 0.0019135097186899475\n",
      "0.005407336354772827 0.7077457709842567\n",
      "0.7077664649655908 1.9999415231369146\n",
      "3.001778967984663 1.3325041879946526\n",
      "13.339268990697859 0.1997866882996174\n",
      "35.749050278083814 0.011177174595997473\n",
      "14.295545904425763 0.0015637282648348712\n",
      "0.32113135330256165 0.009738870083866067\n",
      "0.010743194431633846 1.8130305926865669\n",
      "1.8132398458362777 1.9997691941855442\n",
      "8.574687818944435 0.46643545197467506\n",
      "34.7612285521409 0.02683653434601913\n",
      "32.45457523617166 0.00165379051494157\n",
      "1.7435904365369064 0.0018969942485189404\n",
      "0.007664060900294074 0.49503631904755657\n",
      "0.49506539640645286 1.9998825312408932\n",
      "2.4900332342906326 1.6063099108077767\n",
      "11.565857845741974 0.2777675347962447\n",
      "37.434471704014676 0.014840200604004004\n",
      "20.81100204385187 0.0014261879915953588\n",
      "0.6191050781937936 0.0046072566413319915\n",
      "0.00637317709744338 1.445827276063051\n",
      "1.4458860017880684 1.9999187685267792\n",
      "6.180921607452657 0.6471263981459897\n",
      "25.36980865722055 0.05101547330447129\n",
      "32.88596126930464 0.003102568472102929\n",
      "3.3584883269242782 0.0018475981870952505\n",
      "0.02268747818117721 0.16287382602338946\n",
      "0.16295766071050405 1.9989710862717458\n",
      "2.052054161631228 1.9482634753487353\n",
      "10.152257348477601 0.38380892218830337\n",
      "39.94235329094772 0.01921814267639996\n",
      "30.679681275202558 0.0012528254452195626\n",
      "1.1804658094718576 0.0021225950555570578\n",
      "0.00508043026219316 0.8355965719489118\n",
      "0.8356181393412211 1.9999483797890594\n",
      "3.396427685172764 1.177677586671379\n",
      "14.763037678735326 0.159544073828072\n",
      "34.93174124469138 0.00913461901085839\n",
      "11.155439227183157 0.0016376977768117803\n",
      "0.20543907225501717 0.01594339147695197\n",
      "0.016616285700756604 1.919007865425184\n",
      "1.9195377053208242 1.9994479505204075\n",
      "9.366663859502149 0.4269285159607897\n",
      "37.88324223015107 0.02253917515122291\n",
      "32.369411945354244 0.0013926218486312537\n",
      "1.4605523126054838 0.0019069797591117449\n",
      "0.005974973882318348 0.6383223748492163\n",
      "0.6383451631577258 1.999928601923145\n",
      "2.814868602963845 1.420974748034328\n"
     ]
    }
   ],
   "source": [
    "xo = 2\n",
    "yo = 3\n",
    "temp = 1e-6\n",
    "for i in range(100):\n",
    "    x = f(xo,yo)\n",
    "    y = g(xo)\n",
    "    print(xo,yo)\n",
    "    xo = x\n",
    "    yo = y"
   ]
  },
  {
   "cell_type": "code",
   "execution_count": 7,
   "id": "616cbf87",
   "metadata": {
    "scrolled": true
   },
   "outputs": [
    {
     "name": "stdout",
     "output_type": "stream",
     "text": [
      "2 3\n",
      "0.5773502691896258 0.4\n",
      "2.0 0.43301270189221935\n",
      "1.902314945932194 0.4\n",
      "2.0 0.4118632672940252\n",
      "1.9636650714924069 0.4\n",
      "2.0 0.40438075610800917\n",
      "1.9864122863201303 0.4\n",
      "2.0 0.40163345114218674\n",
      "1.9949097477571613 0.4\n",
      "2.0 0.400611243354449\n",
      "1.9980918687165672 0.4\n",
      "2.0 0.4002290339314792\n",
      "1.9992845505793713 0.4\n",
      "2.0 0.40008586211625663\n",
      "1.9997317204769791 0.4\n",
      "2.0 0.40003219469412865\n",
      "1.9998993971476058 0.4\n",
      "2.0 0.40001207250421084\n",
      "1.9999622742071335 0.4\n",
      "2.0 0.4000045271179152\n",
      "1.9999858528665935 0.4\n",
      "2.0 0.400001697659211\n",
      "1.9999946948304455 0.4\n",
      "2.0 0.4000006366207968\n",
      "1.9999980105621868 0.4\n",
      "2.0 0.40000023873260093\n"
     ]
    }
   ],
   "source": [
    "#c)\n",
    "def X(y):\n",
    "    return (abs(b/y - a))**0.5\n",
    "def Y(x):\n",
    "    return x/(a+x**2)\n",
    "\n",
    "xo = 2\n",
    "yo = 3\n",
    "temp = 1e-6\n",
    "err = 10000\n",
    "while(err>temp):\n",
    "    x = X(yo)\n",
    "    y = Y(xo)\n",
    "    print(xo, yo)\n",
    "    err = abs(xo-x)\n",
    "    xo = x\n",
    "    yo = y\n",
    "    "
   ]
  },
  {
   "cell_type": "markdown",
   "id": "34ea720c",
   "metadata": {},
   "source": [
    "## Problema 3"
   ]
  },
  {
   "cell_type": "code",
   "execution_count": 8,
   "id": "f411b484",
   "metadata": {},
   "outputs": [],
   "source": [
    "h = 6.62607015e-34\n",
    "c = 299792458\n",
    "Kb = 1.380649e-23"
   ]
  },
  {
   "cell_type": "code",
   "execution_count": 9,
   "id": "0f918a2c",
   "metadata": {},
   "outputs": [],
   "source": [
    "def f(x):\n",
    "    return x - 5 +5/np.exp(x)"
   ]
  },
  {
   "cell_type": "code",
   "execution_count": 10,
   "id": "d7862420",
   "metadata": {},
   "outputs": [
    {
     "data": {
      "text/plain": [
       "<matplotlib.lines.Line2D at 0x2ec0843c520>"
      ]
     },
     "execution_count": 10,
     "metadata": {},
     "output_type": "execute_result"
    },
    {
     "data": {
      "image/png": "[encoded data removed]",
      "text/plain": [
       "<Figure size 432x288 with 1 Axes>"
      ]
     },
     "metadata": {
      "needs_background": "light"
     },
     "output_type": "display_data"
    }
   ],
   "source": [
    "l = np.linspace(-1,10,1000)\n",
    "q = []\n",
    "for i in range(0,1000):\n",
    "    q.append(f(l[i]))\n",
    "plt.plot(l,q)\n",
    "plt.axhline(y=0, color = 'blue')"
   ]
  },
  {
   "cell_type": "code",
   "execution_count": 11,
   "id": "cf4f5679",
   "metadata": {},
   "outputs": [
    {
     "data": {
      "text/plain": [
       "4.965113639831543"
      ]
     },
     "execution_count": 11,
     "metadata": {},
     "output_type": "execute_result"
    }
   ],
   "source": [
    "a = 1\n",
    "b = 5\n",
    "temp = 1e-6\n",
    "e=100\n",
    "while(e>temp):\n",
    "    m = (a+b)/2\n",
    "    if(f(a)*f(m)>0):\n",
    "        a=m\n",
    "    else:\n",
    "        b=m\n",
    "    e = abs(a-b)/2\n",
    "    \n",
    "r = (a+b)/2\n",
    "r"
   ]
  },
  {
   "cell_type": "code",
   "execution_count": 12,
   "id": "0e003d60",
   "metadata": {},
   "outputs": [
    {
     "data": {
      "text/plain": [
       "0.0028977723006411364"
      ]
     },
     "execution_count": 12,
     "metadata": {},
     "output_type": "execute_result"
    }
   ],
   "source": [
    "#b)\n",
    "b = (h*c)/(Kb*r)\n",
    "b"
   ]
  },
  {
   "cell_type": "code",
   "execution_count": 13,
   "id": "cfdccd23",
   "metadata": {},
   "outputs": [
    {
     "data": {
      "text/plain": [
       "5772.454782153658"
      ]
     },
     "execution_count": 13,
     "metadata": {},
     "output_type": "execute_result"
    }
   ],
   "source": [
    "#c)\n",
    "T = b/502e-9\n",
    "T"
   ]
  }
 ],
 "metadata": {
  "kernelspec": {
   "display_name": "Python 3",
   "language": "python",
   "name": "python3"
  },
  "language_info": {
   "codemirror_mode": {
    "name": "ipython",
    "version": 3
   },
   "file_extension": ".py",
   "mimetype": "text/x-python",
   "name": "python",
   "nbconvert_exporter": "python",
   "pygments_lexer": "ipython3",
   "version": "3.8.8"
  }
 },
 "nbformat": 4,
 "nbformat_minor": 5
}
