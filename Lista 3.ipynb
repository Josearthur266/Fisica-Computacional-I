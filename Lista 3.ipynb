{
 "cells": [
  {
   "cell_type": "code",
   "execution_count": 1,
   "id": "acd192d7",
   "metadata": {},
   "outputs": [],
   "source": [
    "import matplotlib.pyplot as plt\n",
    "import numpy as np\n",
    "import pandas as pd\n",
    "from math import*\n",
    "from gaussxw import*"
   ]
  },
  {
   "cell_type": "markdown",
   "id": "af0c81e6",
   "metadata": {},
   "source": [
    "## Problema 1"
   ]
  },
  {
   "cell_type": "code",
   "execution_count": 2,
   "id": "4a7c7b97",
   "metadata": {},
   "outputs": [],
   "source": [
    "V = 1e-3 #m³\n",
    "p = 6.022e28\n",
    "tetd = 428\n",
    "Kb = 1.38e-23"
   ]
  },
  {
   "cell_type": "code",
   "execution_count": 3,
   "id": "40822eb0",
   "metadata": {},
   "outputs": [],
   "source": [
    "def f(x):\n",
    "    return (x**4)*(e**x)/((e**x - 1)**2)\n",
    "\n",
    "def cv(T):\n",
    "    n = 100\n",
    "    a, b = 0, tetd/T\n",
    "    c = 9*V*p*Kb*((T/tetd)**3)\n",
    "    \n",
    "    y, w = gaussxw(n)\n",
    "    \n",
    "    x = ((b-a)/2)*y + (b+a)/2\n",
    "    wl = ((b-a)/2)*w\n",
    "    soma = 0\n",
    "    \n",
    "    for k in range(n):\n",
    "        soma += wl[k]*f(x[k])\n",
    "    return c*soma"
   ]
  },
  {
   "cell_type": "code",
   "execution_count": 4,
   "id": "98bd4c70",
   "metadata": {},
   "outputs": [
    {
     "name": "stdout",
     "output_type": "stream",
     "text": [
      "1152.7216478493658\n"
     ]
    }
   ],
   "source": [
    "print(cv(100))"
   ]
  },
  {
   "cell_type": "code",
   "execution_count": 5,
   "id": "09ec2451",
   "metadata": {},
   "outputs": [
    {
     "data": {
      "text/plain": [
       "Text(0, 0.5, 'calor específico(c)')"
      ]
     },
     "execution_count": 5,
     "metadata": {},
     "output_type": "execute_result"
    },
    {
     "data": {
      "image/png": "[encoded data removed]",
      "text/plain": [
       "<Figure size 432x288 with 1 Axes>"
      ]
     },
     "metadata": {
      "needs_background": "light"
     },
     "output_type": "display_data"
    }
   ],
   "source": [
    "m = p*V\n",
    "T = np.linspace(5,500,100)\n",
    "res = []\n",
    "for i in range(0,100):\n",
    "    res.append(cv(T[i])/m)\n",
    "    \n",
    "plt.plot(T,res)\n",
    "plt.xlabel('Temperatura(T)')\n",
    "plt.ylabel(\"calor específico(c)\")\n"
   ]
  },
  {
   "cell_type": "markdown",
   "id": "5a578e71",
   "metadata": {},
   "source": [
    "## Problema 2\n"
   ]
  },
  {
   "cell_type": "code",
   "execution_count": 6,
   "id": "ee76b122",
   "metadata": {},
   "outputs": [
    {
     "data": {
      "text/plain": [
       "8.71541300067064e-09"
      ]
     },
     "execution_count": 6,
     "metadata": {},
     "output_type": "execute_result"
    }
   ],
   "source": [
    "#b)\n",
    "h = (6.6261e-34)/(2*pi)\n",
    "c = 2.9979e8\n",
    "cons = (Kb**4)/(4*(pi**2)*(c**2)*(h**3))\n",
    "cons"
   ]
  },
  {
   "cell_type": "code",
   "execution_count": 7,
   "id": "4ec5e481",
   "metadata": {},
   "outputs": [
    {
     "name": "stderr",
     "output_type": "stream",
     "text": [
      "<ipython-input-7-2d9869062223>:2: RuntimeWarning: overflow encountered in double_scalars\n",
      "  return (t**3)/(((1-t)**5)*((e**(t/(1-t))-1)))\n"
     ]
    },
    {
     "data": {
      "text/plain": [
       "6.493939400514872"
      ]
     },
     "execution_count": 7,
     "metadata": {},
     "output_type": "execute_result"
    }
   ],
   "source": [
    "def f(t):\n",
    "    return (t**3)/(((1-t)**5)*((e**(t/(1-t))-1)))\n",
    "\n",
    "N = 50\n",
    "a, b = 0, 1\n",
    "y, w = gaussxw(N)\n",
    "    \n",
    "x = (((b-a))*y + (b+a))/2\n",
    "wl = ((b-a)/2)*w\n",
    "soma = 0\n",
    "    \n",
    "for k in range(N):\n",
    "    soma += wl[k]*f(x[k])\n",
    "res = soma\n",
    "res"
   ]
  },
  {
   "cell_type": "markdown",
   "id": "17126dfe",
   "metadata": {},
   "source": [
    "Escolhi o método da quadratura de Gaussiana apenas porque caso eu utilizasse a regra do trapézio ou simpson, iria acabar tendo \n",
    "uma divisão por 0, e isso da um erro. Então a quadratura de Gaussiana foi a minha saída."
   ]
  },
  {
   "cell_type": "code",
   "execution_count": 8,
   "id": "61e6df42",
   "metadata": {},
   "outputs": [
    {
     "name": "stdout",
     "output_type": "stream",
     "text": [
      "0.0000000566\n"
     ]
    }
   ],
   "source": [
    "#c)\n",
    "# valor da constante 5.67e-8\n",
    "real = 5.67e-8\n",
    "sig = res*cons\n",
    "print(\"%.10f\"%sig)"
   ]
  },
  {
   "cell_type": "code",
   "execution_count": 9,
   "id": "9cd0acb8",
   "metadata": {},
   "outputs": [
    {
     "data": {
      "text/plain": [
       "0.0018101609027403652"
      ]
     },
     "execution_count": 9,
     "metadata": {},
     "output_type": "execute_result"
    }
   ],
   "source": [
    "(real-sig)/real"
   ]
  },
  {
   "cell_type": "markdown",
   "id": "89cd95e7",
   "metadata": {},
   "source": [
    "O erro fracionário comparado com o valor real é de 0,18%; um resultado bastante satisfatório."
   ]
  },
  {
   "cell_type": "markdown",
   "id": "fa8139a9",
   "metadata": {},
   "source": [
    "## Problema 3"
   ]
  },
  {
   "cell_type": "code",
   "execution_count": 10,
   "id": "3449d1f9",
   "metadata": {},
   "outputs": [],
   "source": [
    "G = 6.674e-11\n",
    "sig = 100"
   ]
  },
  {
   "cell_type": "code",
   "execution_count": 11,
   "id": "0094ff20",
   "metadata": {},
   "outputs": [],
   "source": [
    "#b)\n",
    "def f(x,y,z):\n",
    "    return  1/((x**2 + y**2 + z**2)**1.5)\n",
    "\n",
    "def F(z):\n",
    "    N = 50\n",
    "    a, b = -5, 5\n",
    "    c = G*sig*z\n",
    "    \n",
    "    y, w = gaussxw(N)\n",
    "    x = (((b-a))*y + (b+a))/2\n",
    "    wl = ((b-a)/2)*w\n",
    "    \n",
    "    soma = 0\n",
    "    for k in range(N):\n",
    "        for i in range(N):\n",
    "            soma += wl[k]*wl[i]*f(x[k], x[i], z)\n",
    "    \n",
    "    return c*soma"
   ]
  },
  {
   "cell_type": "code",
   "execution_count": 12,
   "id": "ece486bb",
   "metadata": {
    "scrolled": false
   },
   "outputs": [
    {
     "data": {
      "text/plain": [
       "array([ 0.3       ,  0.3979798 ,  0.4959596 ,  0.59393939,  0.69191919,\n",
       "        0.78989899,  0.88787879,  0.98585859,  1.08383838,  1.18181818,\n",
       "        1.27979798,  1.37777778,  1.47575758,  1.57373737,  1.67171717,\n",
       "        1.76969697,  1.86767677,  1.96565657,  2.06363636,  2.16161616,\n",
       "        2.25959596,  2.35757576,  2.45555556,  2.55353535,  2.65151515,\n",
       "        2.74949495,  2.84747475,  2.94545455,  3.04343434,  3.14141414,\n",
       "        3.23939394,  3.33737374,  3.43535354,  3.53333333,  3.63131313,\n",
       "        3.72929293,  3.82727273,  3.92525253,  4.02323232,  4.12121212,\n",
       "        4.21919192,  4.31717172,  4.41515152,  4.51313131,  4.61111111,\n",
       "        4.70909091,  4.80707071,  4.90505051,  5.0030303 ,  5.1010101 ,\n",
       "        5.1989899 ,  5.2969697 ,  5.39494949,  5.49292929,  5.59090909,\n",
       "        5.68888889,  5.78686869,  5.88484848,  5.98282828,  6.08080808,\n",
       "        6.17878788,  6.27676768,  6.37474747,  6.47272727,  6.57070707,\n",
       "        6.66868687,  6.76666667,  6.86464646,  6.96262626,  7.06060606,\n",
       "        7.15858586,  7.25656566,  7.35454545,  7.45252525,  7.55050505,\n",
       "        7.64848485,  7.74646465,  7.84444444,  7.94242424,  8.04040404,\n",
       "        8.13838384,  8.23636364,  8.33434343,  8.43232323,  8.53030303,\n",
       "        8.62828283,  8.72626263,  8.82424242,  8.92222222,  9.02020202,\n",
       "        9.11818182,  9.21616162,  9.31414141,  9.41212121,  9.51010101,\n",
       "        9.60808081,  9.70606061,  9.8040404 ,  9.9020202 , 10.        ])"
      ]
     },
     "execution_count": 12,
     "metadata": {},
     "output_type": "execute_result"
    },
    {
     "data": {
      "image/png": "[encoded data removed]",
      "text/plain": [
       "<Figure size 432x288 with 1 Axes>"
      ]
     },
     "metadata": {
      "needs_background": "light"
     },
     "output_type": "display_data"
    }
   ],
   "source": [
    "Fg = []\n",
    "Z = np.linspace(0.3, 10, 100)\n",
    "\n",
    "for i in range(0,100):\n",
    "    Fg.append(F(Z[i]))\n",
    "    \n",
    "plt.plot(Z,Fg, '.')\n",
    "plt.xlabel(\"Z(m)\")\n",
    "plt.ylabel(\"Fg\")\n",
    "Z"
   ]
  },
  {
   "cell_type": "code",
   "execution_count": null,
   "id": "c308c569",
   "metadata": {},
   "outputs": [],
   "source": []
  }
 ],
 "metadata": {
  "kernelspec": {
   "display_name": "Python 3",
   "language": "python",
   "name": "python3"
  },
  "language_info": {
   "codemirror_mode": {
    "name": "ipython",
    "version": 3
   },
   "file_extension": ".py",
   "mimetype": "text/x-python",
   "name": "python",
   "nbconvert_exporter": "python",
   "pygments_lexer": "ipython3",
   "version": "3.8.8"
  }
 },
 "nbformat": 4,
 "nbformat_minor": 5
}
