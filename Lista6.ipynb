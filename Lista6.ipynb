{
 "cells": [
  {
   "cell_type": "code",
   "execution_count": 1,
   "id": "9156f97d",
   "metadata": {},
   "outputs": [],
   "source": [
    "import matplotlib.pyplot as plt\n",
    "import numpy as np\n",
    "import pandas as pd\n",
    "from math import*"
   ]
  },
  {
   "cell_type": "markdown",
   "id": "636ed52f",
   "metadata": {},
   "source": [
    "## Problema 1"
   ]
  },
  {
   "cell_type": "code",
   "execution_count": 2,
   "id": "6829c336",
   "metadata": {},
   "outputs": [],
   "source": [
    "def P(x):\n",
    "    return 924*(x**6) - 2772*(x**5) + 3150*(x**4) - 1680*(x**3) + 420*(x**2) - 42*x + 1"
   ]
  },
  {
   "cell_type": "code",
   "execution_count": 3,
   "id": "b3e38353",
   "metadata": {},
   "outputs": [
    {
     "data": {
      "text/plain": [
       "Text(0.5, 1.0, 'Gráfico da a')"
      ]
     },
     "execution_count": 3,
     "metadata": {},
     "output_type": "execute_result"
    },
    {
     "data": {
      "image/png": "[encoded data removed]",
      "text/plain": [
       "<Figure size 576x360 with 1 Axes>"
      ]
     },
     "metadata": {
      "needs_background": "light"
     },
     "output_type": "display_data"
    }
   ],
   "source": [
    "#a)\n",
    "plt.figure(figsize=(8,5))\n",
    "x = np.linspace(0,1,1000)\n",
    "plt.axhline(y=0, color = 'blue')\n",
    "plt.plot(x,P(x), \".\")\n",
    "plt.xlabel(\"x\")\n",
    "plt.ylabel(\"P(x)\")\n",
    "plt.title(\"Gráfico da a\")"
   ]
  },
  {
   "cell_type": "markdown",
   "id": "144f9a8e",
   "metadata": {},
   "source": [
    "Por inspeção as raízes são 0.03377, 0.169185, 0.3804, 0.61962, 0.83083, 0.9660"
   ]
  },
  {
   "cell_type": "code",
   "execution_count": 4,
   "id": "650a9ad3",
   "metadata": {},
   "outputs": [
    {
     "data": {
      "text/plain": [
       "[0.03376524289842398,\n",
       " 0.16939530676686765,\n",
       " 0.3806904069584,\n",
       " 0.619309593041593,\n",
       " 0.8306046932331476,\n",
       " 0.9662347571016031]"
      ]
     },
     "execution_count": 4,
     "metadata": {},
     "output_type": "execute_result"
    }
   ],
   "source": [
    "#b)\n",
    "def dP(x):\n",
    "    return 924*6*(x**5) - 2772*5*(x**4) + 3150*4*(x**3) - 1680*3*(x**2) + 420*2*x - 42 \n",
    "\n",
    "x = [0,0.2,0.4,0.6,0.8,1]\n",
    "raizes = []\n",
    "for i in range(0,6):\n",
    "    X = x[i]\n",
    "    erro = 100\n",
    "    e = 1.0e-10\n",
    "    while (erro>e):\n",
    "        X2 = X\n",
    "        X = X - P(X)/dP(X)\n",
    "        erro = abs(X-X2)\n",
    "    raizes.append(X)\n",
    "raizes"
   ]
  },
  {
   "cell_type": "markdown",
   "id": "fcec08a7",
   "metadata": {},
   "source": [
    "## Problema 2"
   ]
  },
  {
   "cell_type": "code",
   "execution_count": 5,
   "id": "48ab2cad",
   "metadata": {},
   "outputs": [],
   "source": [
    "G = 6.674e-11\n",
    "M = 5.974e24\n",
    "m = 7.348e22\n",
    "R = 3.844e8\n",
    "w = 2.662e-6"
   ]
  },
  {
   "cell_type": "code",
   "execution_count": 6,
   "id": "76cd078b",
   "metadata": {},
   "outputs": [],
   "source": [
    "def f(r):\n",
    "    t = (R-r)**2\n",
    "    return r**5 - G*M*t/(w**2) + G*m*(r**2)/(w**2) - 2*R*(r**4) + (R**2)*(r**3)\n",
    "def df(r):\n",
    "    return 5*r**4 - (G*M*(2*r-2*R))/(w**2) + 2*G*m*r/(w**2) - 8*R*(r**3) + 3*(R**2)*(r**2)"
   ]
  },
  {
   "cell_type": "code",
   "execution_count": 7,
   "id": "47a1fa46",
   "metadata": {},
   "outputs": [
    {
     "data": {
      "text/plain": [
       "326045071.6653554"
      ]
     },
     "execution_count": 7,
     "metadata": {},
     "output_type": "execute_result"
    }
   ],
   "source": [
    "#Método de Newton\n",
    "r = 3e8\n",
    "erro = 100\n",
    "e = 1e-4\n",
    "while (erro>e):   \n",
    "    r2 = r\n",
    "    r = r - f(r)/df(r)\n",
    "    erro = abs(r-r2)\n",
    "r"
   ]
  },
  {
   "cell_type": "code",
   "execution_count": 8,
   "id": "139f19ad",
   "metadata": {},
   "outputs": [
    {
     "data": {
      "text/plain": [
       "326045071.6653557"
      ]
     },
     "execution_count": 8,
     "metadata": {},
     "output_type": "execute_result"
    }
   ],
   "source": [
    "#Método da Secante\n",
    "r, ro = 3e8, 3.5e8\n",
    "erro = 100\n",
    "e = 1e-4\n",
    "while (erro>e):   \n",
    "    dF = (f(r)-f(ro))/(r-ro)\n",
    "    ro = r\n",
    "    r = r - f(r)/dF\n",
    "    erro = abs(r-ro)\n",
    "r"
   ]
  },
  {
   "cell_type": "markdown",
   "id": "a338ea88",
   "metadata": {},
   "source": [
    "## Problema 3"
   ]
  },
  {
   "cell_type": "code",
   "execution_count": 9,
   "id": "e72151a8",
   "metadata": {},
   "outputs": [],
   "source": [
    "h = 6.6261e-34\n",
    "c = 2.9979e8\n",
    "Kb = 1.38e-23\n",
    "lamb1 = 390e-9\n",
    "lamb2 = 750e-9"
   ]
  },
  {
   "cell_type": "code",
   "execution_count": 10,
   "id": "21280fb3",
   "metadata": {},
   "outputs": [],
   "source": [
    "def gaussxw(N):\n",
    "\n",
    "    a = np.linspace(3,4*N-1,N)/(4*N+2)\n",
    "    x = np.cos(pi*a+1/(8*N*N*(np.tan(a))))\n",
    "\n",
    "    epsilon = 1e-15\n",
    "    delta = 1.0\n",
    "    while delta>epsilon:\n",
    "        p0 = np.ones(N,float)\n",
    "        p1 = np.copy(x)\n",
    "        for k in range(1,N):\n",
    "            p0,p1 = p1,((2*k+1)*x*p1-k*p0)/(k+1)\n",
    "        dp = (N+1)*(p0-x*p1)/(1-x*x)\n",
    "        dx = p1/dp\n",
    "        x -= dx\n",
    "        delta = np.max(abs(dx))\n",
    "\n",
    "    w = 2*(N+1)*(N+1)/(N*N*(1-x*x)*dp*dp)\n",
    "\n",
    "    return x,w"
   ]
  },
  {
   "cell_type": "code",
   "execution_count": 11,
   "id": "86552da8",
   "metadata": {},
   "outputs": [],
   "source": [
    "#a)\n",
    "def g(x):\n",
    "    return (x**3)/((e**x) - 1)\n",
    "\n",
    "def N(T):\n",
    "    n = 100\n",
    "    b = (h*c)/(lamb1*Kb*T)\n",
    "    a = (h*c)/(lamb2*Kb*T)\n",
    "    y, w = gaussxw(n)\n",
    "    \n",
    "    x = (((b-a))*y + (b+a))/2\n",
    "    wl = ((b-a)/2)*w\n",
    "    \n",
    "    soma = 0\n",
    "    for k in range(n):\n",
    "        soma += wl[k]*g(x[k])\n",
    "    res = soma*15/(pi**4)\n",
    "    return res"
   ]
  },
  {
   "cell_type": "code",
   "execution_count": 12,
   "id": "a2be1a37",
   "metadata": {
    "scrolled": false
   },
   "outputs": [
    {
     "data": {
      "text/plain": [
       "Text(0.5, 1.0, 'Gráfico da a')"
      ]
     },
     "execution_count": 12,
     "metadata": {},
     "output_type": "execute_result"
    },
    {
     "data": {
      "text/plain": [
       "<Figure size 360x216 with 0 Axes>"
      ]
     },
     "metadata": {},
     "output_type": "display_data"
    },
    {
     "data": {
      "image/png": "[encoded data removed]",
      "text/plain": [
       "<Figure size 576x360 with 1 Axes>"
      ]
     },
     "metadata": {
      "needs_background": "light"
     },
     "output_type": "display_data"
    }
   ],
   "source": [
    "plt.figure(figsize=(5,3))\n",
    "t = np.linspace(300, 10000, 100)\n",
    "N_ = []\n",
    "\n",
    "for i in range(0, 100):\n",
    "    N_.append(N(t[i]))\n",
    "    \n",
    "plt.figure(figsize=(8,5))\n",
    "plt.plot(t,N_)\n",
    "plt.xlabel(\"T(K)\")\n",
    "plt.ylabel(\"η\")\n",
    "plt.title(\"Gráfico da a\")"
   ]
  },
  {
   "cell_type": "code",
   "execution_count": 13,
   "id": "f7a5bb6e",
   "metadata": {},
   "outputs": [
    {
     "data": {
      "text/plain": [
       "Text(0, 0.5, '-η')"
      ]
     },
     "execution_count": 13,
     "metadata": {},
     "output_type": "execute_result"
    },
    {
     "data": {
      "text/plain": [
       "<Figure size 360x216 with 0 Axes>"
      ]
     },
     "metadata": {},
     "output_type": "display_data"
    },
    {
     "data": {
      "image/png": "[encoded data removed]",
      "text/plain": [
       "<Figure size 576x360 with 1 Axes>"
      ]
     },
     "metadata": {
      "needs_background": "light"
     },
     "output_type": "display_data"
    }
   ],
   "source": [
    "#b)\n",
    "def InvertN(T):\n",
    "    return -N(T)\n",
    "\n",
    "plt.figure(figsize=(5,3))\n",
    "N_2 = []\n",
    "\n",
    "for i in range(0, 100):\n",
    "    N_2.append(InvertN(t[i]))\n",
    "\n",
    "plt.figure(figsize=(8,5))\n",
    "plt.plot(t,N_2)\n",
    "plt.xlabel(\"T(K)\")\n",
    "plt.ylabel(\"-η\")"
   ]
  },
  {
   "cell_type": "code",
   "execution_count": 14,
   "id": "30ed7c2e",
   "metadata": {},
   "outputs": [
    {
     "name": "stdout",
     "output_type": "stream",
     "text": [
      "7999.999995948667 K\n"
     ]
    }
   ],
   "source": [
    "z =(1+(5)**(0.5))/2\n",
    "x1 = 5000\n",
    "x4 = 8000\n",
    "x3 = x1 + (x4-x1)/z\n",
    "x2 = x4 - x3 + x1\n",
    "while(abs(x4-x1)>1e-5):\n",
    "    if(InvertN(x2)<InvertN(x3)):\n",
    "        x4 = x3\n",
    "        x3 = x2\n",
    "        x2 = x4 - x3 + x1\n",
    "    else:\n",
    "        x1=x2\n",
    "        x2=x3\n",
    "        x3 = x1 + (x4-x1)/z\n",
    "    \n",
    "Tmáx = (x1+x4)/2\n",
    "print(Tmáx,\"K\")"
   ]
  },
  {
   "cell_type": "markdown",
   "id": "0928e1db",
   "metadata": {},
   "source": [
    "Não, pois a temperatura de maior eficiência é muito alta. Caso conseguíssemos por essa temperatura na lâmpada, o vidro e o filamento de tungtênio da mesma iria derreter, porque seus pontos de fusão são de 1973K e 3695K, respectivamente."
   ]
  }
 ],
 "metadata": {
  "kernelspec": {
   "display_name": "Python 3",
   "language": "python",
   "name": "python3"
  },
  "language_info": {
   "codemirror_mode": {
    "name": "ipython",
    "version": 3
   },
   "file_extension": ".py",
   "mimetype": "text/x-python",
   "name": "python",
   "nbconvert_exporter": "python",
   "pygments_lexer": "ipython3",
   "version": "3.8.8"
  }
 },
 "nbformat": 4,
 "nbformat_minor": 5
}
