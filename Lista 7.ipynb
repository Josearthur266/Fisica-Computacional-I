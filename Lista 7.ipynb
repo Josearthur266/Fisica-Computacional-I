{
 "cells": [
  {
   "cell_type": "code",
   "execution_count": 1,
   "id": "85c4bbc5",
   "metadata": {},
   "outputs": [],
   "source": [
    "import numpy as np\n",
    "import matplotlib.pylab as plt"
   ]
  },
  {
   "cell_type": "markdown",
   "id": "5488eb12",
   "metadata": {},
   "source": [
    "## Problema 1"
   ]
  },
  {
   "cell_type": "code",
   "execution_count": 2,
   "id": "6731fa2e",
   "metadata": {},
   "outputs": [],
   "source": [
    "#b)\n",
    "M = np.array([[4, -1, -1, -1],\n",
    "             [-1, 3, 0, -1],\n",
    "             [-1, 0, 3, -1],\n",
    "             [-1, -1, -1, 4]], float)\n",
    "v = np.array([5, 0, 5, 0], float)\n",
    "N = len(v)\n",
    "sol = np.zeros(N)"
   ]
  },
  {
   "cell_type": "code",
   "execution_count": 3,
   "id": "132baac2",
   "metadata": {},
   "outputs": [
    {
     "name": "stdout",
     "output_type": "stream",
     "text": [
      "[[ 4. -1. -1. -1.]\n",
      " [-1.  3.  0. -1.]\n",
      " [-1.  0.  3. -1.]\n",
      " [-1. -1. -1.  4.]]\n",
      "[[ 1.   -0.25 -0.25 -0.25]\n",
      " [ 0.    2.75 -0.25 -1.25]\n",
      " [ 0.   -0.25  2.75 -1.25]\n",
      " [ 0.   -1.25 -1.25  3.75]]\n",
      "[[ 1.         -0.25       -0.25       -0.25      ]\n",
      " [ 0.          1.         -0.09090909 -0.45454545]\n",
      " [ 0.          0.          2.72727273 -1.36363636]\n",
      " [ 0.          0.         -1.36363636  3.18181818]]\n",
      "[[ 1.         -0.25       -0.25       -0.25      ]\n",
      " [ 0.          1.         -0.09090909 -0.45454545]\n",
      " [ 0.          0.          1.         -0.5       ]\n",
      " [ 0.          0.          0.          2.5       ]]\n",
      "[[ 1.         -0.25       -0.25       -0.25      ]\n",
      " [ 0.          1.         -0.09090909 -0.45454545]\n",
      " [ 0.          0.          1.         -0.5       ]\n",
      " [ 0.          0.          0.          1.        ]]\n",
      "[1.25       0.45454545 2.33333333 2.        ]\n"
     ]
    }
   ],
   "source": [
    "for i in range(N):\n",
    "    print(M)\n",
    "    v[i] = v[i]/M[i,i]\n",
    "    M[i,:] = M[i,:]/M[i,i]\n",
    "    \n",
    "    for j in range(i+1,N):\n",
    "        mult = -(M[j,i])\n",
    "        M[j,:] = M[j,:] + mult*M[i,:]\n",
    "        v[j] = v[j] + mult*v[i]\n",
    "print(M)\n",
    "print(v)\n",
    "\n",
    "for i in range(N-1,-1,-1):\n",
    "    sol[i] = v[i]\n",
    "    for j in range(i+1,N):\n",
    "        sol[i] -= M[i,j]*sol[j] "
   ]
  },
  {
   "cell_type": "code",
   "execution_count": 4,
   "id": "d27d24d2",
   "metadata": {
    "scrolled": true
   },
   "outputs": [
    {
     "data": {
      "text/plain": [
       "array([3.        , 1.66666667, 3.33333333, 2.        ])"
      ]
     },
     "execution_count": 4,
     "metadata": {},
     "output_type": "execute_result"
    }
   ],
   "source": [
    "sol"
   ]
  },
  {
   "cell_type": "code",
   "execution_count": 5,
   "id": "d9c08583",
   "metadata": {},
   "outputs": [
    {
     "data": {
      "text/plain": [
       "array([3.        , 1.66666667, 3.33333333, 2.        ])"
      ]
     },
     "execution_count": 5,
     "metadata": {},
     "output_type": "execute_result"
    }
   ],
   "source": [
    "#c)\n",
    "np.linalg.solve(M, v)"
   ]
  },
  {
   "cell_type": "markdown",
   "id": "5e8d3dc7",
   "metadata": {},
   "source": [
    "Dessa forma, da para ver que o código está correto"
   ]
  },
  {
   "cell_type": "markdown",
   "id": "a3004a4c",
   "metadata": {},
   "source": [
    "## Problema 2"
   ]
  },
  {
   "cell_type": "code",
   "execution_count": 6,
   "id": "45f9c131",
   "metadata": {},
   "outputs": [],
   "source": [
    "#a)\n",
    "#primeiro sistema\n",
    "M = np.array([[2, 1, 4, 1],\n",
    "             [3, 4, -1, -1],\n",
    "             [1, -4, 1, 5],\n",
    "             [2, -2, 1, 3]], float)\n",
    "v = np.array([-4, 3, 9, 7], float)\n",
    "N = len(v)\n",
    "sol = np.zeros(N)"
   ]
  },
  {
   "cell_type": "code",
   "execution_count": 7,
   "id": "3ac5fb72",
   "metadata": {
    "scrolled": true
   },
   "outputs": [
    {
     "name": "stdout",
     "output_type": "stream",
     "text": [
      "[[ 2.  1.  4.  1.]\n",
      " [ 3.  4. -1. -1.]\n",
      " [ 1. -4.  1.  5.]\n",
      " [ 2. -2.  1.  3.]]\n",
      "[[ 1.   0.5  2.   0.5]\n",
      " [ 0.   2.5 -7.  -2.5]\n",
      " [ 0.  -4.5 -1.   4.5]\n",
      " [ 0.  -3.  -3.   2. ]]\n",
      "[[  1.    0.5   2.    0.5]\n",
      " [  0.    1.   -2.8  -1. ]\n",
      " [  0.    0.  -13.6   0. ]\n",
      " [  0.    0.  -11.4  -1. ]]\n",
      "[[ 1.   0.5  2.   0.5]\n",
      " [ 0.   1.  -2.8 -1. ]\n",
      " [-0.  -0.   1.  -0. ]\n",
      " [ 0.   0.   0.  -1. ]]\n",
      "[[ 1.   0.5  2.   0.5]\n",
      " [ 0.   1.  -2.8 -1. ]\n",
      " [-0.  -0.   1.  -0. ]\n",
      " [-0.  -0.  -0.   1. ]]\n",
      "[-2.   3.6 -2.   1. ]\n"
     ]
    }
   ],
   "source": [
    "for i in range(N):\n",
    "    print(M)\n",
    "    v[i] = v[i]/M[i,i]\n",
    "    M[i,:] = M[i,:]/M[i,i]\n",
    "    \n",
    "    for j in range(i+1,N):\n",
    "        mult = -(M[j,i])\n",
    "        M[j,:] = M[j,:] + mult*M[i,:]\n",
    "        v[j] = v[j] + mult*v[i]\n",
    "print(M)\n",
    "print(v)\n",
    "\n",
    "for i in range(N-1,-1,-1):\n",
    "    sol[i] = v[i]\n",
    "    for j in range(i+1,N):\n",
    "        sol[i] -= M[i,j]*sol[j] "
   ]
  },
  {
   "cell_type": "code",
   "execution_count": 8,
   "id": "3136cd32",
   "metadata": {},
   "outputs": [
    {
     "name": "stdout",
     "output_type": "stream",
     "text": [
      "Solução para o primeiro sistema [ 2. -1. -2.  1.]\n"
     ]
    }
   ],
   "source": [
    "print(\"Solução para o primeiro sistema\", sol)"
   ]
  },
  {
   "cell_type": "code",
   "execution_count": 9,
   "id": "e09ba926",
   "metadata": {},
   "outputs": [],
   "source": [
    "#segundo sistema\n",
    "M = np.array([[0, 1, 4, 1],\n",
    "             [3, 4, -1, -1],\n",
    "             [1, -4, 1, 5],\n",
    "             [2, -2, 1, 3]], float)\n",
    "\n",
    "v = np.array([-4, 3, 9, 7], float)\n",
    "N = len(v)\n",
    "sol = np.zeros(N)"
   ]
  },
  {
   "cell_type": "code",
   "execution_count": 10,
   "id": "a8db574e",
   "metadata": {},
   "outputs": [
    {
     "name": "stdout",
     "output_type": "stream",
     "text": [
      "[[ 0.  1.  4.  1.]\n",
      " [ 3.  4. -1. -1.]\n",
      " [ 1. -4.  1.  5.]\n",
      " [ 2. -2.  1.  3.]]\n",
      "[[ 3.  4. -1. -1.]\n",
      " [ 0.  1.  4.  1.]\n",
      " [ 1. -4.  1.  5.]\n",
      " [ 2. -2.  1.  3.]]\n",
      "[[ 1.          1.33333333 -0.33333333 -0.33333333]\n",
      " [ 0.          1.          4.          1.        ]\n",
      " [ 0.         -5.33333333  1.33333333  5.33333333]\n",
      " [ 0.         -4.66666667  1.66666667  3.66666667]]\n",
      "[[ 1.          1.33333333 -0.33333333 -0.33333333]\n",
      " [ 0.          1.          4.          1.        ]\n",
      " [ 0.          0.         22.66666667 10.66666667]\n",
      " [ 0.          0.         20.33333333  8.33333333]]\n",
      "[[ 1.          1.33333333 -0.33333333 -0.33333333]\n",
      " [ 0.          1.          4.          1.        ]\n",
      " [ 0.          0.          1.          0.47058824]\n",
      " [ 0.          0.          0.         -1.23529412]]\n",
      "[[ 1.          1.33333333 -0.33333333 -0.33333333]\n",
      " [ 0.          1.          4.          1.        ]\n",
      " [ 0.          0.          1.          0.47058824]\n",
      " [-0.         -0.         -0.          1.        ]]\n",
      "[ 1.         -4.         -0.58823529  1.38095238]\n"
     ]
    }
   ],
   "source": [
    "for i in range(N):\n",
    "    print(M)\n",
    "    if(M[i,i]==0):\n",
    "        \n",
    "        temp2 = 0\n",
    "        for q in range(N):\n",
    "            if(temp2<abs(M[q,i])):\n",
    "                temp2 = M[q, i]\n",
    "                t = q\n",
    "        for j in range(N):        \n",
    "            temp=M[t,j]    \n",
    "            M[t, j] = M[i, j]\n",
    "            M[i,j] = temp\n",
    "        \n",
    "        temp = v[i]\n",
    "        v[i]=v[t]\n",
    "        v[t] = temp\n",
    "        print(M)\n",
    "        \n",
    "    v[i] = v[i]/M[i,i]\n",
    "    M[i,:] = M[i,:]/M[i,i]\n",
    "        \n",
    "        \n",
    "    for j in range(i+1,N):\n",
    "        mult = -(M[j,i])\n",
    "        M[j,:] = M[j,:] + mult*M[i,:]\n",
    "        v[j] = v[j] + mult*v[i]\n",
    "print(M)\n",
    "print(v)\n",
    "\n",
    "for i in range(N-1,-1,-1):\n",
    "    sol[i] = v[i]\n",
    "    for j in range(i+1,N):\n",
    "        sol[i] -= M[i,j]*sol[j] "
   ]
  },
  {
   "cell_type": "code",
   "execution_count": 11,
   "id": "7d11e69b",
   "metadata": {},
   "outputs": [
    {
     "data": {
      "text/plain": [
       "array([ 1.61904762, -0.42857143, -1.23809524,  1.38095238])"
      ]
     },
     "execution_count": 11,
     "metadata": {},
     "output_type": "execute_result"
    }
   ],
   "source": [
    "sol"
   ]
  },
  {
   "cell_type": "code",
   "execution_count": 12,
   "id": "7673b477",
   "metadata": {},
   "outputs": [
    {
     "data": {
      "text/plain": [
       "array([ 1.61904762, -0.42857143, -1.23809524,  1.38095238])"
      ]
     },
     "execution_count": 12,
     "metadata": {},
     "output_type": "execute_result"
    }
   ],
   "source": [
    "np.linalg.solve(M, v)"
   ]
  },
  {
   "cell_type": "markdown",
   "id": "7b1967cb",
   "metadata": {},
   "source": [
    "## Problema 3"
   ]
  },
  {
   "cell_type": "code",
   "execution_count": 13,
   "id": "a3574e54",
   "metadata": {},
   "outputs": [],
   "source": [
    "M = np.array([[2, 1, 4, 1],\n",
    "             [3, 4, -1, -1],\n",
    "             [1, -4, 1, 5],\n",
    "             [2, -2, 1, 3]], float)\n",
    "v = np.array([-4, 3, 9, 7])"
   ]
  },
  {
   "cell_type": "code",
   "execution_count": 14,
   "id": "9dce5945",
   "metadata": {},
   "outputs": [
    {
     "name": "stdout",
     "output_type": "stream",
     "text": [
      "[[ 2.  1.  4.  1.]\n",
      " [ 3.  4. -1. -1.]\n",
      " [ 1. -4.  1.  5.]\n",
      " [ 2. -2.  1.  3.]]\n",
      "[[ 1.   0.5  2.   0.5]\n",
      " [ 0.   2.5 -7.  -2.5]\n",
      " [ 0.  -4.5 -1.   4.5]\n",
      " [ 0.  -3.  -3.   2. ]]\n",
      "[[  1.    0.5   2.    0.5]\n",
      " [  0.    1.   -2.8  -1. ]\n",
      " [  0.    0.  -13.6   0. ]\n",
      " [  0.    0.  -11.4  -1. ]]\n",
      "[[ 1.   0.5  2.   0.5]\n",
      " [ 0.   1.  -2.8 -1. ]\n",
      " [-0.  -0.   1.  -0. ]\n",
      " [ 0.   0.   0.  -1. ]]\n"
     ]
    },
    {
     "data": {
      "text/plain": [
       "(array([[ 1. ,  0.5,  2. ,  0.5],\n",
       "        [ 0. ,  1. , -2.8, -1. ],\n",
       "        [-0. , -0. ,  1. , -0. ],\n",
       "        [-0. , -0. , -0. ,  1. ]]),\n",
       " array([[  2. ,   0. ,   0. ,   0. ],\n",
       "        [  3. ,   2.5,   0. ,   0. ],\n",
       "        [  1. ,  -4.5, -13.6,   0. ],\n",
       "        [  2. ,  -3. , -11.4,  -1. ]]),\n",
       " array([[ 2.,  1.,  4.,  1.],\n",
       "        [ 3.,  4., -1., -1.],\n",
       "        [ 1., -4.,  1.,  5.],\n",
       "        [ 2., -2.,  1.,  3.]]))"
      ]
     },
     "execution_count": 14,
     "metadata": {},
     "output_type": "execute_result"
    }
   ],
   "source": [
    "#a)\n",
    "\n",
    "N = len(M)\n",
    "L = np.zeros((N,N))\n",
    "cont = 0\n",
    "    \n",
    "for i in range(N):\n",
    "    print(M)\n",
    "    for j in range(cont,N):\n",
    "        L[j][i] = M[j][i]\n",
    "            \n",
    "    M[i,:] = M[i,:]/M[i,i]\n",
    "\n",
    "    for j in range(i+1,N):\n",
    "        mult = -(M[j,i])\n",
    "        M[j,:] = M[j,:] + mult*M[i,:]\n",
    "            \n",
    "    cont = cont + 1\n",
    "U = M\n",
    "#Multiplicando L por U\n",
    "ori = np.zeros((N,N))\n",
    "    \n",
    "for i in range(N):\n",
    "    for j in range(N):\n",
    "        temp = 0\n",
    "        for k in range(N):\n",
    "                temp = temp +  L[i][k]*U[k][j]\n",
    "                ori[i][j] = temp\n",
    "U, L, ori"
   ]
  },
  {
   "cell_type": "code",
   "execution_count": 15,
   "id": "d9c7a576",
   "metadata": {},
   "outputs": [
    {
     "data": {
      "text/plain": [
       "array([-2. ,  3.6, -2. ,  1. ])"
      ]
     },
     "execution_count": 15,
     "metadata": {},
     "output_type": "execute_result"
    }
   ],
   "source": [
    "#b)\n",
    "v = np.array([-4, 3, 9, 7])\n",
    "y = np.zeros(N)\n",
    "\n",
    "for k in range(N):\n",
    "    y[k] = v[k]/L[k][k]\n",
    "    for q in range(k-1, -1, -1):\n",
    "        y[k] = y[k] - (L[k][q]*y[q])/L[k][k]\n",
    "y"
   ]
  },
  {
   "cell_type": "code",
   "execution_count": 16,
   "id": "a69fc4e5",
   "metadata": {},
   "outputs": [
    {
     "data": {
      "text/plain": [
       "array([ 2., -1., -2.,  1.])"
      ]
     },
     "execution_count": 16,
     "metadata": {},
     "output_type": "execute_result"
    }
   ],
   "source": [
    "x = np.zeros(N)\n",
    "for k in range(N-1, -1, -1):\n",
    "    x[k] = y[k]\n",
    "    for q in range(k+1, N):\n",
    "        x[k] = x[k] - M[k][q]*x[q]\n",
    "x"
   ]
  },
  {
   "cell_type": "code",
   "execution_count": 17,
   "id": "6ae947c1",
   "metadata": {},
   "outputs": [
    {
     "data": {
      "text/plain": [
       "(array([-2. ,  3.6, -2. ,  1. ]), array([ 2., -1., -2.,  1.]))"
      ]
     },
     "execution_count": 17,
     "metadata": {},
     "output_type": "execute_result"
    }
   ],
   "source": [
    "np.linalg.solve(L,v), np.linalg.solve(M, y)"
   ]
  }
 ],
 "metadata": {
  "kernelspec": {
   "display_name": "Python 3",
   "language": "python",
   "name": "python3"
  },
  "language_info": {
   "codemirror_mode": {
    "name": "ipython",
    "version": 3
   },
   "file_extension": ".py",
   "mimetype": "text/x-python",
   "name": "python",
   "nbconvert_exporter": "python",
   "pygments_lexer": "ipython3",
   "version": "3.8.8"
  }
 },
 "nbformat": 4,
 "nbformat_minor": 5
}
